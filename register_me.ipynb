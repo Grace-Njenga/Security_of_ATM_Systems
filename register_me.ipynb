{
 "cells": [
  {
   "cell_type": "code",
   "execution_count": 1,
   "id": "18c2e310",
   "metadata": {},
   "outputs": [],
   "source": [
    "# code below works marvelously it does store the embedding nicely dont change it "
   ]
  },
  {
   "cell_type": "code",
   "execution_count": 4,
   "id": "1a08620a",
   "metadata": {},
   "outputs": [],
   "source": [
    "import cv2\n",
    "import face_recognition\n",
    "import numpy as np\n",
    "import pymysql\n",
    "\n",
    "\n",
    "def insert_face_embedding(cursor, account_number, embedding):\n",
    "    # Insert the face embedding into the face table along with the account number\n",
    "    cursor.execute('INSERT INTO face_db (account_number, face_embedding) VALUES (%s, %s)', (account_number, embedding))\n",
    "\n",
    "def capture_and_store_faces(cursor, connection, account_number, num_faces):\n",
    "    # Start the webcam for capturing images\n",
    "    video_capture = cv2.VideoCapture(0)\n",
    "\n",
    "    face_count = 0\n",
    "\n",
    "    while face_count < num_faces:\n",
    "        # Capture frame-by-frame\n",
    "        ret, frame = video_capture.read()\n",
    "\n",
    "        # Convert the image from BGR color (OpenCV default) to RGB color\n",
    "        rgb_image = cv2.cvtColor(frame, cv2.COLOR_BGR2RGB)\n",
    "\n",
    "        # Detect faces in the frame\n",
    "        face_locations = face_recognition.face_locations(rgb_image)\n",
    "\n",
    "        # If no face is detected, continue to the next frame\n",
    "        if len(face_locations) == 0:\n",
    "            continue\n",
    "\n",
    "        # Encode the detected face images\n",
    "        face_encodings = face_recognition.face_encodings(rgb_image, face_locations)\n",
    "\n",
    "        for face_encoding in face_encodings:\n",
    "            # Store the face embedding in the database\n",
    "            insert_face_embedding(cursor, account_number, np.array(face_encoding))\n",
    "\n",
    "            face_count += 1\n",
    "\n",
    "        # Display the captured image with bounding boxes\n",
    "        for (top, right, bottom, left) in face_locations:\n",
    "            cv2.rectangle(frame, (left, top), (right, bottom), (0, 255, 0), 2)\n",
    "\n",
    "        cv2.imshow('Video', frame)\n",
    "        cv2.waitKey(1)\n",
    "\n",
    "    # Release the webcam and close the OpenCV windows\n",
    "    video_capture.release()\n",
    "    cv2.destroyAllWindows()\n",
    "    connection.commit()\n"
   ]
  },
  {
   "cell_type": "code",
   "execution_count": 5,
   "id": "061bdb4d",
   "metadata": {},
   "outputs": [],
   "source": [
    "# Example usage\n",
    "connection = pymysql.connect(host='localhost',\n",
    "                             user='root',\n",
    "                             password='52456',\n",
    "                             db='mydatabase',\n",
    "                             charset='utf8mb4',\n",
    "                             cursorclass=pymysql.cursors.DictCursor)\n",
    "\n",
    "with connection.cursor() as cursor:\n",
    "  # Create the face table if it doesn't exist\n",
    "\n",
    "    account_number = 129098788\n",
    "    num_faces = 10\n",
    "\n",
    "    # Capture and store faces in the face database for the specified account number\n",
    "    capture_and_store_faces(cursor, connection, account_number, num_faces)\n",
    "\n",
    "connection.close()  # Close the database connection"
   ]
  },
  {
   "cell_type": "code",
   "execution_count": null,
   "id": "d8979310",
   "metadata": {},
   "outputs": [],
   "source": []
  }
 ],
 "metadata": {
  "kernelspec": {
   "display_name": "Python 3 (ipykernel)",
   "language": "python",
   "name": "python3"
  },
  "language_info": {
   "codemirror_mode": {
    "name": "ipython",
    "version": 3
   },
   "file_extension": ".py",
   "mimetype": "text/x-python",
   "name": "python",
   "nbconvert_exporter": "python",
   "pygments_lexer": "ipython3",
   "version": "3.9.2"
  }
 },
 "nbformat": 4,
 "nbformat_minor": 5
}
